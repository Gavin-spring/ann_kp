{
 "cells": [
  {
   "cell_type": "markdown",
   "metadata": {},
   "source": [
    "### 案例"
   ]
  },
  {
   "cell_type": "markdown",
   "metadata": {},
   "source": [
    "一维滚动 0-1背包"
   ]
  },
  {
   "cell_type": "code",
   "execution_count": null,
   "metadata": {},
   "outputs": [
    {
     "name": "stdout",
     "output_type": "stream",
     "text": [
      "i = 0 51 [0, 0, 0, 0, 0, 0, 0, 0, 0, 0, 0, 0, 0, 0, 0, 0, 0, 0, 0, 0, 0, 0, 0, 0, 0, 0, 0, 0, 0, 0, 0, 0, 0, 0, 0, 0, 0, 0, 0, 0, 0, 0, 0, 0, 0, 0, 0, 0, 0, 0, 0]\n",
      "i = 1 51 [0, 0, 0, 0, 0, 0, 0, 0, 0, 0, 60, 60, 60, 60, 60, 60, 60, 60, 60, 60, 60, 60, 60, 60, 60, 60, 60, 60, 60, 60, 60, 60, 60, 60, 60, 60, 60, 60, 60, 60, 60, 60, 60, 60, 60, 60, 60, 60, 60, 60, 60]\n",
      "i = 2 51 [0, 0, 0, 0, 0, 0, 0, 0, 0, 0, 60, 60, 60, 60, 60, 60, 60, 60, 60, 60, 100, 100, 100, 100, 100, 100, 100, 100, 100, 100, 160, 160, 160, 160, 160, 160, 160, 160, 160, 160, 160, 160, 160, 160, 160, 160, 160, 160, 160, 160, 160]\n",
      "最大价值是： 220\n",
      "[0, 0, 0, 0, 0, 0, 0, 0, 0, 0, 60, 60, 60, 60, 60, 60, 60, 60, 60, 60, 100, 100, 100, 100, 100, 100, 100, 100, 100, 100, 160, 160, 160, 160, 160, 160, 160, 160, 160, 160, 180, 180, 180, 180, 180, 180, 180, 180, 180, 180, 220]\n"
     ]
    }
   ],
   "source": [
    "# 物品重量和价值\n",
    "weights = [10, 20, 30]\n",
    "values = [60, 100, 120]\n",
    "capacity = 50\n",
    "\n",
    "# 初始化：dp[j] 表示容量为 j 时的最大价值\n",
    "dp = [0] * (capacity + 1)\n",
    "\n",
    "# 遍历每一个物品\n",
    "for i in range(len(weights)):\n",
    "    print(f'i = {i}: ', len(dp), dp)\n",
    "    w = weights[i]\n",
    "    v = values[i]\n",
    "    # 倒序遍历容量，确保每个物品只用一次\n",
    "    for j in range(capacity, w - 1, -1):\n",
    "        dp[j] = max(dp[j], dp[j - w] + v)\n",
    "\n",
    "# 最终答案\n",
    "print(\"最大价值是：\", dp[capacity])\n",
    "print(dp)\n"
   ]
  },
  {
   "cell_type": "markdown",
   "metadata": {},
   "source": [
    "两个约束：重量 + 体积"
   ]
  },
  {
   "cell_type": "code",
   "execution_count": null,
   "metadata": {},
   "outputs": [],
   "source": [
    "def knapsack_2d(m, n, w, v, c):\n",
    "    dp = [[0] * (n + 1) for _ in range(m + 1)]\n",
    "    for k in range(len(w)):  # 遍历每个物品\n",
    "        wi, vi, ci = w[k], v[k], c[k]\n",
    "        # 逆向遍历防止重复选择（假设物品不可重复）\n",
    "        for i in range(m, wi - 1, -1):\n",
    "            for j in range(n, vi - 1, -1):\n",
    "                if dp[i - wi][j - vi] + ci > dp[i][j]:\n",
    "                    dp[i][j] = dp[i - wi][j - vi] + ci\n",
    "    return dp[m][n]"
   ]
  },
  {
   "cell_type": "code",
   "execution_count": null,
   "metadata": {},
   "outputs": [],
   "source": [
    "# 物品参数（N=100个物品）\n",
    "N = 100\n",
    "m, n = 1000, 1000  # 背包容量\n",
    "w = [random.randint(1, 100) for _ in range(N)]  # 重量\n",
    "v = [random.randint(1, 100) for _ in range(N)]  # 体积\n",
    "c = [random.randint(10, 100) for _ in range(N)]  # 价值"
   ]
  },
  {
   "cell_type": "markdown",
   "metadata": {},
   "source": [
    "### 动态规划的优化方法\n",
    "\n",
    "#### 一、时间优化\n",
    "1. 裁剪状态空间\n",
    "2. 记忆化搜索（Memoization）\n",
    "3. 状态转移优化\n",
    "   - 前缀和优化（子数组和类问题）\n",
    "   - 单调队列（滑动窗口最大/最小）\n",
    "   - 决策单调性 + 二分搜索\n",
    "   - 四边形不等式优化（区间DP）\n",
    "   - 斜率优化（凸包 Trick）\n",
    "4. 二进制优化（多重背包拆分）\n",
    "\n",
    "#### 二、空间优化\n",
    "5. 滚动数组（维度压缩）\n",
    "6. 状态压缩（如 bitmask 状态合并）\n",
    "7. 稀疏状态用哈希表/字典存储\n",
    "\n",
    "#### 三、实现策略\n",
    "8. Tabulation（表填充） vs 记忆化搜索\n",
    "\n"
   ]
  },
  {
   "cell_type": "code",
   "execution_count": 11,
   "metadata": {},
   "outputs": [],
   "source": [
    "import time"
   ]
  },
  {
   "cell_type": "code",
   "execution_count": 6,
   "metadata": {},
   "outputs": [],
   "source": [
    "w = [2, 1, 3]\n",
    "v = [4, 2, 3]\n",
    "W = 4\n"
   ]
  },
  {
   "cell_type": "code",
   "execution_count": 12,
   "metadata": {},
   "outputs": [
    {
     "name": "stdout",
     "output_type": "stream",
     "text": [
      "6\n",
      "Memoization time: 0.000478 seconds\n"
     ]
    }
   ],
   "source": [
    "# 记忆化搜索\n",
    "from functools import lru_cache\n",
    "start = time.perf_counter()\n",
    "\n",
    "def knapsack_memo(w, v, W):\n",
    "    n = len(w)\n",
    "\n",
    "    @lru_cache(None)\n",
    "    def dfs(i, capacity):\n",
    "        if i == n:\n",
    "            return 0\n",
    "        # 不选当前物品\n",
    "        res = dfs(i + 1, capacity)\n",
    "        # 选当前物品（如果装得下）\n",
    "        if capacity >= w[i]:\n",
    "            res = max(res, dfs(i + 1, capacity - w[i]) + v[i])\n",
    "        return res\n",
    "\n",
    "    return dfs(0, W)\n",
    "\n",
    "print(knapsack_memo([2, 1, 3], [4, 2, 3], 4))  # 输出：6\n",
    "end = time.perf_counter()\n",
    "print(f\"Memoization time: {end - start:.6f} seconds\")\n",
    "\n"
   ]
  },
  {
   "cell_type": "markdown",
   "metadata": {},
   "source": [
    "表格填充（二维）"
   ]
  },
  {
   "cell_type": "code",
   "execution_count": 13,
   "metadata": {},
   "outputs": [
    {
     "name": "stdout",
     "output_type": "stream",
     "text": [
      "6\n",
      "Tabulation time: 0.000465 seconds\n"
     ]
    }
   ],
   "source": [
    "start = time.perf_counter()\n",
    "def knapsack_dp(w, v, W):\n",
    "    n = len(w)\n",
    "    dp = [[0] * (W + 1) for _ in range(n + 1)]\n",
    "\n",
    "    for i in range(1, n + 1):  # 考虑前i个物品\n",
    "        for j in range(W + 1):  # 背包容量j\n",
    "            if j < w[i - 1]:\n",
    "                dp[i][j] = dp[i - 1][j]  # 装不下\n",
    "            else:\n",
    "                dp[i][j] = max(\n",
    "                    dp[i - 1][j],                          # 不选\n",
    "                    dp[i - 1][j - w[i - 1]] + v[i - 1]     # 选\n",
    "                )\n",
    "    # print(dp)\n",
    "    return dp[n][W]\n",
    "\n",
    "print(knapsack_dp([2, 1, 3], [4, 2, 3], 4))  # 输出：6\n",
    "end = time.perf_counter()\n",
    "print(f\"Tabulation time: {end - start:.6f} seconds\")\n"
   ]
  },
  {
   "cell_type": "markdown",
   "metadata": {},
   "source": [
    "## ANN approximation"
   ]
  },
  {
   "cell_type": "markdown",
   "metadata": {},
   "source": [
    "思考：\n",
    "1. 什么场景下需要ANN近似求解\n",
    "\n",
    "    1）大规模输入（如上万物品）\n",
    "\n",
    "    2）复杂约束：有些背包问题的约束是非标准的（比如物品间的依赖、互斥、组合规则），ANN避免显示建模\n",
    "\n",
    "    3）不可微/不规则目标的策略学习：多轮决策、动态变化资源\n",
    "\n",
    "    4）在启发式算法（如蒙特卡洛树搜索、剪枝搜索、模拟退火）中， ANN 可以用作估价函数，快速评估某状态的“潜在价值”，辅助搜索方向\n",
    "\n",
    "2. 用什么类型/特点的ANN可能可以满足要求\n",
    "\n",
    "    1）定长物品列表：MLP\n",
    "\n",
    "    2）变长物品列表：Transformer\n",
    "\n",
    "3. 输入和输出可以是什么\n",
    "\n",
    "    1）Pure ANN：输入所有物品信息和容量，直接预测整体解\n",
    "    \n",
    "    2）Hybrid DP + ANN（对于部分代价高的子问题（例如状态空间大或计算慢），用 ANN 进行近似预测；其余子问题继续使用经典 DP 递推，保证精度）：\n",
    "    \n",
    "4. 怎么体现优化的程度\n",
    "\n",
    "    1）inference time：单个实例用 ANN 推理的时间 vs 用 DP / ILP 解的时间\n",
    "\n",
    "    2）speedup ratio：传统算法耗时 / 神经网络推理耗时\n",
    "\n",
    "5. 怎么保证解的质量\n",
    "\n",
    "    1）Approxiamation ratio:ANN 预测解的价值 / 最优解的价值（DP or ILP）\n",
    "\n",
    "    2）MSE/MAE\n",
    "\n",
    "    3）Feasible Rate: 在预测中有多少比例的解满足背包容量约束\n",
    "\n",
    "6. 训练的数据来源"
   ]
  },
  {
   "cell_type": "code",
   "execution_count": null,
   "metadata": {},
   "outputs": [],
   "source": []
  },
  {
   "cell_type": "code",
   "execution_count": null,
   "metadata": {},
   "outputs": [],
   "source": [
    "import numpy as np\n",
    "\n",
    "# 生成 0-1 背包 DP 训练数据\n",
    "def knapsack_dp(weights, values, W):\n",
    "    n = len(weights)\n",
    "    dp = np.zeros(W + 1)\n",
    "    \n",
    "    for i in range(n):\n",
    "        for j in range(W, weights[i] - 1, -1):\n",
    "            dp[j] = max(dp[j], dp[j - weights[i]] + values[i])\n",
    "\n",
    "    return dp  # 返回 DP 表\n",
    "\n",
    "# 生成随机背包问题的数据\n",
    "np.random.seed(42)\n",
    "weights = np.random.randint(1, 10, 10)\n",
    "values = np.random.randint(10, 100, 10)\n",
    "W = 50\n",
    "\n",
    "dp_table = knapsack_dp(weights, values, W)\n",
    "X_train = np.array([[w, v, W] for w, v in zip(weights, values)])\n",
    "y_train = dp_table[weights]  # 训练标签：对应 DP 结果\n"
   ]
  },
  {
   "cell_type": "code",
   "execution_count": null,
   "metadata": {},
   "outputs": [],
   "source": [
    "import tensorflow as tf\n",
    "from tensorflow import keras\n",
    "\n",
    "# 设计神经网络\n",
    "model = keras.Sequential([\n",
    "    keras.layers.Dense(16, activation='relu', input_shape=(3,)),\n",
    "    keras.layers.Dense(16, activation='relu'),\n",
    "    keras.layers.Dense(1)  # 预测 DP 值\n",
    "])\n",
    "\n",
    "model.compile(optimizer='adam', loss='mse')\n",
    "model.fit(X_train, y_train, epochs=500, verbose=0)\n",
    "\n",
    "# 用神经网络预测 DP 结果\n",
    "print(model.predict([[5, 60, 50]]))  # 预测 DP 值\n"
   ]
  }
 ],
 "metadata": {
  "kernelspec": {
   "display_name": "Python 3",
   "language": "python",
   "name": "python3"
  },
  "language_info": {
   "codemirror_mode": {
    "name": "ipython",
    "version": 3
   },
   "file_extension": ".py",
   "mimetype": "text/x-python",
   "name": "python",
   "nbconvert_exporter": "python",
   "pygments_lexer": "ipython3",
   "version": "3.12.1"
  }
 },
 "nbformat": 4,
 "nbformat_minor": 2
}
